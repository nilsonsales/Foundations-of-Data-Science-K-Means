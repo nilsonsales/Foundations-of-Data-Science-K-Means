{
 "cells": [
  {
   "cell_type": "markdown",
   "metadata": {},
   "source": [
    "# Peer-graded Assignment: Create a Labelled Plot of the Happiness Data\n",
    "\n",
    "\n",
    "### Instructions\n",
    "\n",
    "This assignment aims to test if you can write the code necessary to load a CSV file, sort and filter the data, then to plot two columns of the data against each other, with labelled points and axes. You will also provide an explanation of why you think the data you have presented is of interest.\n",
    "\n",
    "#### Review criteria\n",
    "1. Labels on the x and y axes stating what the axes represent (e.g. happiness, average income, etc.)\n",
    "2. One or more labelled 'data points of interest'\n",
    "3. An explanation of the following:\n",
    "    - why you chose to plot those particular columns in the data\n",
    "    - how you sorted or filtered the data\n",
    "    - what makes the labelled points interesting. "
   ]
  },
  {
   "cell_type": "code",
   "execution_count": 25,
   "metadata": {},
   "outputs": [
    {
     "data": {
      "text/html": [
       "<div>\n",
       "<style scoped>\n",
       "    .dataframe tbody tr th:only-of-type {\n",
       "        vertical-align: middle;\n",
       "    }\n",
       "\n",
       "    .dataframe tbody tr th {\n",
       "        vertical-align: top;\n",
       "    }\n",
       "\n",
       "    .dataframe thead th {\n",
       "        text-align: right;\n",
       "    }\n",
       "</style>\n",
       "<table border=\"1\" class=\"dataframe\">\n",
       "  <thead>\n",
       "    <tr style=\"text-align: right;\">\n",
       "      <th></th>\n",
       "      <th>country</th>\n",
       "      <th>adjusted_satisfaction</th>\n",
       "      <th>avg_satisfaction</th>\n",
       "      <th>std_satisfaction</th>\n",
       "      <th>avg_income</th>\n",
       "      <th>median_income</th>\n",
       "      <th>income_inequality</th>\n",
       "      <th>region</th>\n",
       "      <th>happyScore</th>\n",
       "      <th>GDP</th>\n",
       "      <th>country.1</th>\n",
       "    </tr>\n",
       "  </thead>\n",
       "  <tbody>\n",
       "    <tr>\n",
       "      <th>0</th>\n",
       "      <td>Armenia</td>\n",
       "      <td>37.0</td>\n",
       "      <td>4.9</td>\n",
       "      <td>2.42</td>\n",
       "      <td>2096.76</td>\n",
       "      <td>1731.506667</td>\n",
       "      <td>31.445556</td>\n",
       "      <td>'Central and Eastern Europe'</td>\n",
       "      <td>4.350</td>\n",
       "      <td>0.76821</td>\n",
       "      <td>Armenia</td>\n",
       "    </tr>\n",
       "    <tr>\n",
       "      <th>1</th>\n",
       "      <td>Angola</td>\n",
       "      <td>26.0</td>\n",
       "      <td>4.3</td>\n",
       "      <td>3.19</td>\n",
       "      <td>1448.88</td>\n",
       "      <td>1044.240000</td>\n",
       "      <td>42.720000</td>\n",
       "      <td>'Sub-Saharan Africa'</td>\n",
       "      <td>4.033</td>\n",
       "      <td>0.75778</td>\n",
       "      <td>Angola</td>\n",
       "    </tr>\n",
       "    <tr>\n",
       "      <th>2</th>\n",
       "      <td>Argentina</td>\n",
       "      <td>60.0</td>\n",
       "      <td>7.1</td>\n",
       "      <td>1.91</td>\n",
       "      <td>7101.12</td>\n",
       "      <td>5109.400000</td>\n",
       "      <td>45.475556</td>\n",
       "      <td>'Latin America and Caribbean'</td>\n",
       "      <td>6.574</td>\n",
       "      <td>1.05351</td>\n",
       "      <td>Argentina</td>\n",
       "    </tr>\n",
       "    <tr>\n",
       "      <th>3</th>\n",
       "      <td>Austria</td>\n",
       "      <td>59.0</td>\n",
       "      <td>7.2</td>\n",
       "      <td>2.11</td>\n",
       "      <td>19457.04</td>\n",
       "      <td>16879.620000</td>\n",
       "      <td>30.296250</td>\n",
       "      <td>'Western Europe'</td>\n",
       "      <td>7.200</td>\n",
       "      <td>1.33723</td>\n",
       "      <td>Austria</td>\n",
       "    </tr>\n",
       "    <tr>\n",
       "      <th>4</th>\n",
       "      <td>Australia</td>\n",
       "      <td>65.0</td>\n",
       "      <td>7.6</td>\n",
       "      <td>1.80</td>\n",
       "      <td>19917.00</td>\n",
       "      <td>15846.060000</td>\n",
       "      <td>35.285000</td>\n",
       "      <td>'Australia and New Zealand'</td>\n",
       "      <td>7.284</td>\n",
       "      <td>1.33358</td>\n",
       "      <td>Australia</td>\n",
       "    </tr>\n",
       "  </tbody>\n",
       "</table>\n",
       "</div>"
      ],
      "text/plain": [
       "     country  adjusted_satisfaction  avg_satisfaction  std_satisfaction  \\\n",
       "0    Armenia                   37.0               4.9              2.42   \n",
       "1     Angola                   26.0               4.3              3.19   \n",
       "2  Argentina                   60.0               7.1              1.91   \n",
       "3    Austria                   59.0               7.2              2.11   \n",
       "4  Australia                   65.0               7.6              1.80   \n",
       "\n",
       "   avg_income  median_income  income_inequality  \\\n",
       "0     2096.76    1731.506667          31.445556   \n",
       "1     1448.88    1044.240000          42.720000   \n",
       "2     7101.12    5109.400000          45.475556   \n",
       "3    19457.04   16879.620000          30.296250   \n",
       "4    19917.00   15846.060000          35.285000   \n",
       "\n",
       "                          region  happyScore      GDP  country.1  \n",
       "0   'Central and Eastern Europe'       4.350  0.76821    Armenia  \n",
       "1           'Sub-Saharan Africa'       4.033  0.75778     Angola  \n",
       "2  'Latin America and Caribbean'       6.574  1.05351  Argentina  \n",
       "3               'Western Europe'       7.200  1.33723    Austria  \n",
       "4    'Australia and New Zealand'       7.284  1.33358  Australia  "
      ]
     },
     "execution_count": 25,
     "metadata": {},
     "output_type": "execute_result"
    }
   ],
   "source": [
    "import pandas as pd\n",
    "import numpy as np\n",
    "import matplotlib.pyplot as plt\n",
    "\n",
    "data = pd.read_csv(\"happyscore_income.csv\")\n",
    "\n",
    "data.head()"
   ]
  },
  {
   "cell_type": "code",
   "execution_count": 29,
   "metadata": {},
   "outputs": [],
   "source": [
    "# Sorting by satisfaction\n",
    "data.sort_values('adjusted_satisfaction', inplace=True)"
   ]
  },
  {
   "cell_type": "code",
   "execution_count": 32,
   "metadata": {},
   "outputs": [
    {
     "data": {
      "text/plain": [
       "74.0"
      ]
     },
     "execution_count": 32,
     "metadata": {},
     "output_type": "execute_result"
    }
   ],
   "source": [
    "west_europe = data[ data['region']=='\\'Western Europe\\'' ]\n",
    "east_europe = data[ data['region']=='\\'Central and Eastern Europe\\'' ]\n",
    "\n",
    "west_ineq = west_europe['avg_income']\n",
    "east_ineq = east_europe['avg_income']\n",
    "\n",
    "west_satisfaction = west_europe['adjusted_satisfaction']\n",
    "east_satisfaction = east_europe['adjusted_satisfaction']\n",
    "\n",
    "west_europe.sort_values('')"
   ]
  },
  {
   "cell_type": "code",
   "execution_count": 31,
   "metadata": {},
   "outputs": [
    {
     "data": {
      "image/png": "[encoded data removed]",
      "text/plain": [
       "<Figure size 432x288 with 1 Axes>"
      ]
     },
     "metadata": {
      "needs_background": "light"
     },
     "output_type": "display_data"
    }
   ],
   "source": [
    "plt.xlabel('Average Income')\n",
    "plt.ylabel('Satisfaction')\n",
    "plt.scatter(west_ineq, west_satisfaction, label=\"Western Europe\")\n",
    "plt.scatter(east_ineq, east_satisfaction,\n",
    "            label=\"Eastern Europe\")\n",
    "\n",
    "#printing some random names\n",
    "#print_names(west_europe, 4)\n",
    "#print_names(east_europe, 4)\n",
    "plt.text(east_europe.iloc[-1]['avg_income'],\n",
    "         east_europe.iloc[-1]['adjusted_satisfaction'],\n",
    "         east_europe.iloc[-1]['country'])\n",
    "\n",
    "plt.text(west_europe.iloc[0]['avg_income'],\n",
    "         west_europe.iloc[0]['adjusted_satisfaction'],\n",
    "         west_europe.iloc[0]['country'])\n",
    "\n",
    "plt.legend()\n",
    "plt.show()"
   ]
  }
 ],
 "metadata": {
  "kernelspec": {
   "display_name": "Python 3",
   "language": "python",
   "name": "python3"
  },
  "language_info": {
   "codemirror_mode": {
    "name": "ipython",
    "version": 3
   },
   "file_extension": ".py",
   "mimetype": "text/x-python",
   "name": "python",
   "nbconvert_exporter": "python",
   "pygments_lexer": "ipython3",
   "version": "3.8.2"
  }
 },
 "nbformat": 4,
 "nbformat_minor": 4
}
