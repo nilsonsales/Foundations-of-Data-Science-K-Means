{
 "cells": [
  {
   "cell_type": "markdown",
   "metadata": {},
   "source": [
    "### 4.1: Using the Pandas Library to Read csv Files"
   ]
  },
  {
   "cell_type": "code",
   "execution_count": 1,
   "metadata": {},
   "outputs": [
    {
     "data": {
      "text/html": [
       "<div>\n",
       "<style scoped>\n",
       "    .dataframe tbody tr th:only-of-type {\n",
       "        vertical-align: middle;\n",
       "    }\n",
       "\n",
       "    .dataframe tbody tr th {\n",
       "        vertical-align: top;\n",
       "    }\n",
       "\n",
       "    .dataframe thead th {\n",
       "        text-align: right;\n",
       "    }\n",
       "</style>\n",
       "<table border=\"1\" class=\"dataframe\">\n",
       "  <thead>\n",
       "    <tr style=\"text-align: right;\">\n",
       "      <th></th>\n",
       "      <th>country</th>\n",
       "      <th>adjusted_satisfaction</th>\n",
       "      <th>avg_satisfaction</th>\n",
       "      <th>std_satisfaction</th>\n",
       "      <th>avg_income</th>\n",
       "      <th>median_income</th>\n",
       "      <th>income_inequality</th>\n",
       "      <th>region</th>\n",
       "      <th>happyScore</th>\n",
       "      <th>GDP</th>\n",
       "      <th>country.1</th>\n",
       "    </tr>\n",
       "  </thead>\n",
       "  <tbody>\n",
       "    <tr>\n",
       "      <th>0</th>\n",
       "      <td>Armenia</td>\n",
       "      <td>37.0</td>\n",
       "      <td>4.9</td>\n",
       "      <td>2.42</td>\n",
       "      <td>2096.76</td>\n",
       "      <td>1731.506667</td>\n",
       "      <td>31.445556</td>\n",
       "      <td>'Central and Eastern Europe'</td>\n",
       "      <td>4.350</td>\n",
       "      <td>0.76821</td>\n",
       "      <td>Armenia</td>\n",
       "    </tr>\n",
       "    <tr>\n",
       "      <th>1</th>\n",
       "      <td>Angola</td>\n",
       "      <td>26.0</td>\n",
       "      <td>4.3</td>\n",
       "      <td>3.19</td>\n",
       "      <td>1448.88</td>\n",
       "      <td>1044.240000</td>\n",
       "      <td>42.720000</td>\n",
       "      <td>'Sub-Saharan Africa'</td>\n",
       "      <td>4.033</td>\n",
       "      <td>0.75778</td>\n",
       "      <td>Angola</td>\n",
       "    </tr>\n",
       "    <tr>\n",
       "      <th>2</th>\n",
       "      <td>Argentina</td>\n",
       "      <td>60.0</td>\n",
       "      <td>7.1</td>\n",
       "      <td>1.91</td>\n",
       "      <td>7101.12</td>\n",
       "      <td>5109.400000</td>\n",
       "      <td>45.475556</td>\n",
       "      <td>'Latin America and Caribbean'</td>\n",
       "      <td>6.574</td>\n",
       "      <td>1.05351</td>\n",
       "      <td>Argentina</td>\n",
       "    </tr>\n",
       "    <tr>\n",
       "      <th>3</th>\n",
       "      <td>Austria</td>\n",
       "      <td>59.0</td>\n",
       "      <td>7.2</td>\n",
       "      <td>2.11</td>\n",
       "      <td>19457.04</td>\n",
       "      <td>16879.620000</td>\n",
       "      <td>30.296250</td>\n",
       "      <td>'Western Europe'</td>\n",
       "      <td>7.200</td>\n",
       "      <td>1.33723</td>\n",
       "      <td>Austria</td>\n",
       "    </tr>\n",
       "    <tr>\n",
       "      <th>4</th>\n",
       "      <td>Australia</td>\n",
       "      <td>65.0</td>\n",
       "      <td>7.6</td>\n",
       "      <td>1.80</td>\n",
       "      <td>19917.00</td>\n",
       "      <td>15846.060000</td>\n",
       "      <td>35.285000</td>\n",
       "      <td>'Australia and New Zealand'</td>\n",
       "      <td>7.284</td>\n",
       "      <td>1.33358</td>\n",
       "      <td>Australia</td>\n",
       "    </tr>\n",
       "    <tr>\n",
       "      <th>...</th>\n",
       "      <td>...</td>\n",
       "      <td>...</td>\n",
       "      <td>...</td>\n",
       "      <td>...</td>\n",
       "      <td>...</td>\n",
       "      <td>...</td>\n",
       "      <td>...</td>\n",
       "      <td>...</td>\n",
       "      <td>...</td>\n",
       "      <td>...</td>\n",
       "      <td>...</td>\n",
       "    </tr>\n",
       "    <tr>\n",
       "      <th>106</th>\n",
       "      <td>Uruguay</td>\n",
       "      <td>58.0</td>\n",
       "      <td>7.0</td>\n",
       "      <td>2.13</td>\n",
       "      <td>7544.40</td>\n",
       "      <td>5269.226667</td>\n",
       "      <td>45.014444</td>\n",
       "      <td>'Latin America and Caribbean'</td>\n",
       "      <td>6.485</td>\n",
       "      <td>1.06166</td>\n",
       "      <td>Uruguay</td>\n",
       "    </tr>\n",
       "    <tr>\n",
       "      <th>107</th>\n",
       "      <td>Vietnam</td>\n",
       "      <td>53.0</td>\n",
       "      <td>6.1</td>\n",
       "      <td>1.77</td>\n",
       "      <td>2231.40</td>\n",
       "      <td>1643.580000</td>\n",
       "      <td>39.242500</td>\n",
       "      <td>'Southeastern Asia'</td>\n",
       "      <td>5.360</td>\n",
       "      <td>0.63216</td>\n",
       "      <td>Vietnam</td>\n",
       "    </tr>\n",
       "    <tr>\n",
       "      <th>108</th>\n",
       "      <td>South Africa</td>\n",
       "      <td>49.0</td>\n",
       "      <td>6.3</td>\n",
       "      <td>2.47</td>\n",
       "      <td>3889.32</td>\n",
       "      <td>1506.400000</td>\n",
       "      <td>63.726667</td>\n",
       "      <td>'Sub-Saharan Africa'</td>\n",
       "      <td>4.642</td>\n",
       "      <td>0.92049</td>\n",
       "      <td>South Africa</td>\n",
       "    </tr>\n",
       "    <tr>\n",
       "      <th>109</th>\n",
       "      <td>Zambia</td>\n",
       "      <td>37.0</td>\n",
       "      <td>5.0</td>\n",
       "      <td>2.61</td>\n",
       "      <td>956.76</td>\n",
       "      <td>510.060000</td>\n",
       "      <td>55.120000</td>\n",
       "      <td>'Sub-Saharan Africa'</td>\n",
       "      <td>5.129</td>\n",
       "      <td>0.47038</td>\n",
       "      <td>Zambia</td>\n",
       "    </tr>\n",
       "    <tr>\n",
       "      <th>110</th>\n",
       "      <td>Zimbabwe</td>\n",
       "      <td>33.0</td>\n",
       "      <td>4.1</td>\n",
       "      <td>2.16</td>\n",
       "      <td>1768.56</td>\n",
       "      <td>1230.600000</td>\n",
       "      <td>43.150000</td>\n",
       "      <td>'Sub-Saharan Africa'</td>\n",
       "      <td>4.610</td>\n",
       "      <td>0.27100</td>\n",
       "      <td>Zimbabwe</td>\n",
       "    </tr>\n",
       "  </tbody>\n",
       "</table>\n",
       "<p>111 rows × 11 columns</p>\n",
       "</div>"
      ],
      "text/plain": [
       "          country  adjusted_satisfaction  avg_satisfaction  std_satisfaction  \\\n",
       "0         Armenia                   37.0               4.9              2.42   \n",
       "1          Angola                   26.0               4.3              3.19   \n",
       "2       Argentina                   60.0               7.1              1.91   \n",
       "3         Austria                   59.0               7.2              2.11   \n",
       "4       Australia                   65.0               7.6              1.80   \n",
       "..            ...                    ...               ...               ...   \n",
       "106       Uruguay                   58.0               7.0              2.13   \n",
       "107       Vietnam                   53.0               6.1              1.77   \n",
       "108  South Africa                   49.0               6.3              2.47   \n",
       "109        Zambia                   37.0               5.0              2.61   \n",
       "110      Zimbabwe                   33.0               4.1              2.16   \n",
       "\n",
       "     avg_income  median_income  income_inequality  \\\n",
       "0       2096.76    1731.506667          31.445556   \n",
       "1       1448.88    1044.240000          42.720000   \n",
       "2       7101.12    5109.400000          45.475556   \n",
       "3      19457.04   16879.620000          30.296250   \n",
       "4      19917.00   15846.060000          35.285000   \n",
       "..          ...            ...                ...   \n",
       "106     7544.40    5269.226667          45.014444   \n",
       "107     2231.40    1643.580000          39.242500   \n",
       "108     3889.32    1506.400000          63.726667   \n",
       "109      956.76     510.060000          55.120000   \n",
       "110     1768.56    1230.600000          43.150000   \n",
       "\n",
       "                            region  happyScore      GDP     country.1  \n",
       "0     'Central and Eastern Europe'       4.350  0.76821       Armenia  \n",
       "1             'Sub-Saharan Africa'       4.033  0.75778        Angola  \n",
       "2    'Latin America and Caribbean'       6.574  1.05351     Argentina  \n",
       "3                 'Western Europe'       7.200  1.33723       Austria  \n",
       "4      'Australia and New Zealand'       7.284  1.33358     Australia  \n",
       "..                             ...         ...      ...           ...  \n",
       "106  'Latin America and Caribbean'       6.485  1.06166       Uruguay  \n",
       "107            'Southeastern Asia'       5.360  0.63216       Vietnam  \n",
       "108           'Sub-Saharan Africa'       4.642  0.92049  South Africa  \n",
       "109           'Sub-Saharan Africa'       5.129  0.47038        Zambia  \n",
       "110           'Sub-Saharan Africa'       4.610  0.27100      Zimbabwe  \n",
       "\n",
       "[111 rows x 11 columns]"
      ]
     },
     "execution_count": 1,
     "metadata": {},
     "output_type": "execute_result"
    }
   ],
   "source": [
    "import pandas as pd\n",
    "\n",
    "data = pd.read_csv('happyscore_income.csv')\n",
    "\n",
    "data"
   ]
  },
  {
   "cell_type": "code",
   "execution_count": 2,
   "metadata": {},
   "outputs": [
    {
     "data": {
      "text/plain": [
       "7.5870000000000015"
      ]
     },
     "execution_count": 2,
     "metadata": {},
     "output_type": "execute_result"
    }
   ],
   "source": [
    "happy = data['happyScore']\n",
    "income = data['avg_income']\n",
    "\n",
    "happy.max()"
   ]
  },
  {
   "cell_type": "code",
   "execution_count": 3,
   "metadata": {},
   "outputs": [
    {
     "data": {
      "image/png": "[encoded data removed]",
      "text/plain": [
       "<Figure size 432x288 with 1 Axes>"
      ]
     },
     "metadata": {
      "needs_background": "light"
     },
     "output_type": "display_data"
    }
   ],
   "source": [
    "import matplotlib.pyplot as plt\n",
    "\n",
    "plt.xlabel('income')\n",
    "plt.ylabel('happiness')\n",
    "plt.scatter(income, happy)\n",
    "plt.show()"
   ]
  },
  {
   "cell_type": "markdown",
   "metadata": {},
   "source": [
    "### 4.1a: Sorting and Filtering Data Using Pandas"
   ]
  },
  {
   "cell_type": "code",
   "execution_count": 4,
   "metadata": {},
   "outputs": [
    {
     "data": {
      "text/html": [
       "<div>\n",
       "<style scoped>\n",
       "    .dataframe tbody tr th:only-of-type {\n",
       "        vertical-align: middle;\n",
       "    }\n",
       "\n",
       "    .dataframe tbody tr th {\n",
       "        vertical-align: top;\n",
       "    }\n",
       "\n",
       "    .dataframe thead th {\n",
       "        text-align: right;\n",
       "    }\n",
       "</style>\n",
       "<table border=\"1\" class=\"dataframe\">\n",
       "  <thead>\n",
       "    <tr style=\"text-align: right;\">\n",
       "      <th></th>\n",
       "      <th>country</th>\n",
       "      <th>adjusted_satisfaction</th>\n",
       "      <th>avg_satisfaction</th>\n",
       "      <th>std_satisfaction</th>\n",
       "      <th>avg_income</th>\n",
       "      <th>median_income</th>\n",
       "      <th>income_inequality</th>\n",
       "      <th>region</th>\n",
       "      <th>happyScore</th>\n",
       "      <th>GDP</th>\n",
       "      <th>country.1</th>\n",
       "    </tr>\n",
       "  </thead>\n",
       "  <tbody>\n",
       "    <tr>\n",
       "      <th>10</th>\n",
       "      <td>Burundi</td>\n",
       "      <td>25.0</td>\n",
       "      <td>2.9</td>\n",
       "      <td>1.96</td>\n",
       "      <td>572.880</td>\n",
       "      <td>436.92</td>\n",
       "      <td>33.360000</td>\n",
       "      <td>'Sub-Saharan Africa'</td>\n",
       "      <td>2.905</td>\n",
       "      <td>0.01530</td>\n",
       "      <td>Burundi</td>\n",
       "    </tr>\n",
       "    <tr>\n",
       "      <th>65</th>\n",
       "      <td>Madagascar</td>\n",
       "      <td>33.0</td>\n",
       "      <td>3.7</td>\n",
       "      <td>1.86</td>\n",
       "      <td>574.200</td>\n",
       "      <td>415.48</td>\n",
       "      <td>40.720000</td>\n",
       "      <td>'Sub-Saharan Africa'</td>\n",
       "      <td>3.681</td>\n",
       "      <td>0.20824</td>\n",
       "      <td>Madagascar</td>\n",
       "    </tr>\n",
       "    <tr>\n",
       "      <th>58</th>\n",
       "      <td>Liberia</td>\n",
       "      <td>37.0</td>\n",
       "      <td>4.4</td>\n",
       "      <td>2.02</td>\n",
       "      <td>653.040</td>\n",
       "      <td>528.72</td>\n",
       "      <td>36.480000</td>\n",
       "      <td>'Sub-Saharan Africa'</td>\n",
       "      <td>4.571</td>\n",
       "      <td>0.07120</td>\n",
       "      <td>Liberia</td>\n",
       "    </tr>\n",
       "    <tr>\n",
       "      <th>72</th>\n",
       "      <td>Mozambique</td>\n",
       "      <td>34.0</td>\n",
       "      <td>3.8</td>\n",
       "      <td>1.76</td>\n",
       "      <td>714.720</td>\n",
       "      <td>488.52</td>\n",
       "      <td>45.580000</td>\n",
       "      <td>'Sub-Saharan Africa'</td>\n",
       "      <td>4.971</td>\n",
       "      <td>0.08308</td>\n",
       "      <td>Mozambique</td>\n",
       "    </tr>\n",
       "    <tr>\n",
       "      <th>73</th>\n",
       "      <td>Niger</td>\n",
       "      <td>34.0</td>\n",
       "      <td>3.8</td>\n",
       "      <td>1.75</td>\n",
       "      <td>718.400</td>\n",
       "      <td>535.56</td>\n",
       "      <td>37.726667</td>\n",
       "      <td>'Sub-Saharan Africa'</td>\n",
       "      <td>3.845</td>\n",
       "      <td>0.06940</td>\n",
       "      <td>Niger</td>\n",
       "    </tr>\n",
       "    <tr>\n",
       "      <th>...</th>\n",
       "      <td>...</td>\n",
       "      <td>...</td>\n",
       "      <td>...</td>\n",
       "      <td>...</td>\n",
       "      <td>...</td>\n",
       "      <td>...</td>\n",
       "      <td>...</td>\n",
       "      <td>...</td>\n",
       "      <td>...</td>\n",
       "      <td>...</td>\n",
       "      <td>...</td>\n",
       "    </tr>\n",
       "    <tr>\n",
       "      <th>16</th>\n",
       "      <td>Canada</td>\n",
       "      <td>69.0</td>\n",
       "      <td>8.0</td>\n",
       "      <td>1.71</td>\n",
       "      <td>20190.780</td>\n",
       "      <td>16829.10</td>\n",
       "      <td>33.790000</td>\n",
       "      <td>'North America'</td>\n",
       "      <td>7.427</td>\n",
       "      <td>1.32629</td>\n",
       "      <td>Canada</td>\n",
       "    </tr>\n",
       "    <tr>\n",
       "      <th>77</th>\n",
       "      <td>Norway</td>\n",
       "      <td>70.0</td>\n",
       "      <td>8.0</td>\n",
       "      <td>1.62</td>\n",
       "      <td>21877.710</td>\n",
       "      <td>19477.62</td>\n",
       "      <td>27.307500</td>\n",
       "      <td>'Western Europe'</td>\n",
       "      <td>7.522</td>\n",
       "      <td>1.45900</td>\n",
       "      <td>Norway</td>\n",
       "    </tr>\n",
       "    <tr>\n",
       "      <th>105</th>\n",
       "      <td>United States</td>\n",
       "      <td>62.0</td>\n",
       "      <td>7.3</td>\n",
       "      <td>1.92</td>\n",
       "      <td>23127.000</td>\n",
       "      <td>17925.36</td>\n",
       "      <td>41.090000</td>\n",
       "      <td>'North America'</td>\n",
       "      <td>7.119</td>\n",
       "      <td>1.39451</td>\n",
       "      <td>United States</td>\n",
       "    </tr>\n",
       "    <tr>\n",
       "      <th>17</th>\n",
       "      <td>Switzerland</td>\n",
       "      <td>70.0</td>\n",
       "      <td>8.0</td>\n",
       "      <td>1.62</td>\n",
       "      <td>23400.040</td>\n",
       "      <td>19442.92</td>\n",
       "      <td>32.930000</td>\n",
       "      <td>'Western Europe'</td>\n",
       "      <td>7.587</td>\n",
       "      <td>1.39651</td>\n",
       "      <td>Switzerland</td>\n",
       "    </tr>\n",
       "    <tr>\n",
       "      <th>61</th>\n",
       "      <td>Luxembourg</td>\n",
       "      <td>66.0</td>\n",
       "      <td>7.7</td>\n",
       "      <td>1.76</td>\n",
       "      <td>26182.275</td>\n",
       "      <td>22240.23</td>\n",
       "      <td>31.950000</td>\n",
       "      <td>'Western Europe'</td>\n",
       "      <td>6.946</td>\n",
       "      <td>1.56391</td>\n",
       "      <td>Luxembourg</td>\n",
       "    </tr>\n",
       "  </tbody>\n",
       "</table>\n",
       "<p>111 rows × 11 columns</p>\n",
       "</div>"
      ],
      "text/plain": [
       "           country  adjusted_satisfaction  avg_satisfaction  std_satisfaction  \\\n",
       "10         Burundi                   25.0               2.9              1.96   \n",
       "65      Madagascar                   33.0               3.7              1.86   \n",
       "58         Liberia                   37.0               4.4              2.02   \n",
       "72      Mozambique                   34.0               3.8              1.76   \n",
       "73           Niger                   34.0               3.8              1.75   \n",
       "..             ...                    ...               ...               ...   \n",
       "16          Canada                   69.0               8.0              1.71   \n",
       "77          Norway                   70.0               8.0              1.62   \n",
       "105  United States                   62.0               7.3              1.92   \n",
       "17     Switzerland                   70.0               8.0              1.62   \n",
       "61      Luxembourg                   66.0               7.7              1.76   \n",
       "\n",
       "     avg_income  median_income  income_inequality                region  \\\n",
       "10      572.880         436.92          33.360000  'Sub-Saharan Africa'   \n",
       "65      574.200         415.48          40.720000  'Sub-Saharan Africa'   \n",
       "58      653.040         528.72          36.480000  'Sub-Saharan Africa'   \n",
       "72      714.720         488.52          45.580000  'Sub-Saharan Africa'   \n",
       "73      718.400         535.56          37.726667  'Sub-Saharan Africa'   \n",
       "..          ...            ...                ...                   ...   \n",
       "16    20190.780       16829.10          33.790000       'North America'   \n",
       "77    21877.710       19477.62          27.307500      'Western Europe'   \n",
       "105   23127.000       17925.36          41.090000       'North America'   \n",
       "17    23400.040       19442.92          32.930000      'Western Europe'   \n",
       "61    26182.275       22240.23          31.950000      'Western Europe'   \n",
       "\n",
       "     happyScore      GDP      country.1  \n",
       "10        2.905  0.01530        Burundi  \n",
       "65        3.681  0.20824     Madagascar  \n",
       "58        4.571  0.07120        Liberia  \n",
       "72        4.971  0.08308     Mozambique  \n",
       "73        3.845  0.06940          Niger  \n",
       "..          ...      ...            ...  \n",
       "16        7.427  1.32629         Canada  \n",
       "77        7.522  1.45900         Norway  \n",
       "105       7.119  1.39451  United States  \n",
       "17        7.587  1.39651    Switzerland  \n",
       "61        6.946  1.56391     Luxembourg  \n",
       "\n",
       "[111 rows x 11 columns]"
      ]
     },
     "execution_count": 4,
     "metadata": {},
     "output_type": "execute_result"
    }
   ],
   "source": [
    "data.sort_values('avg_income', inplace=True)  # 'inplace' changes the data, not just return\n",
    "\n",
    "data"
   ]
  },
  {
   "cell_type": "code",
   "execution_count": 5,
   "metadata": {},
   "outputs": [
    {
     "data": {
      "text/plain": [
       "country                             Italy\n",
       "adjusted_satisfaction                  57\n",
       "avg_satisfaction                      6.6\n",
       "std_satisfaction                     1.81\n",
       "avg_income                        15437.6\n",
       "median_income                     13163.1\n",
       "income_inequality                 34.1262\n",
       "region                   'Western Europe'\n",
       "happyScore                          5.948\n",
       "GDP                               1.25114\n",
       "country.1                           Italy\n",
       "Name: 49, dtype: object"
      ]
     },
     "execution_count": 5,
     "metadata": {},
     "output_type": "execute_result"
    }
   ],
   "source": [
    "# Applying a filter\n",
    "\n",
    "richest = data[ data['avg_income'] > 15000 ]\n",
    "\n",
    "\n",
    "richest.iloc[0]\n"
   ]
  },
  {
   "cell_type": "code",
   "execution_count": 6,
   "metadata": {},
   "outputs": [
    {
     "name": "stdout",
     "output_type": "stream",
     "text": [
      "6442.75141621464 19266.680753968256\n"
     ]
    }
   ],
   "source": [
    "# Finding the mean of the richest\n",
    "\n",
    "import numpy as np\n",
    "\n",
    "rich_mean = np.mean(richest['avg_income'])\n",
    "all_mean = np.mean(data['avg_income'])\n",
    "\n",
    "print(all_mean, rich_mean)"
   ]
  },
  {
   "cell_type": "code",
   "execution_count": 7,
   "metadata": {},
   "outputs": [
    {
     "data": {
      "text/plain": [
       "34    True\n",
       "Name: region, dtype: bool"
      ]
     },
     "execution_count": 7,
     "metadata": {},
     "output_type": "execute_result"
    }
   ],
   "source": [
    "France = data[ data['country']=='France' ]\n",
    "'\\'Western Europe\\'' == France['region']"
   ]
  },
  {
   "cell_type": "code",
   "execution_count": 8,
   "metadata": {},
   "outputs": [],
   "source": [
    "west_europe = data[ data['region']=='\\'Western Europe\\'' ]\n",
    "east_europe = data[ data['region']=='\\'Central and Eastern Europe\\'' ]\n",
    "\n",
    "west_income = west_europe['avg_income']\n",
    "east_income = east_europe['avg_income']\n",
    "\n",
    "west_happiness = west_europe['happyScore']\n",
    "east_happiness = east_europe['happyScore']"
   ]
  },
  {
   "cell_type": "code",
   "execution_count": 9,
   "metadata": {},
   "outputs": [],
   "source": [
    "# Funtion to print random names:\n",
    "def print_names(dataset, n):\n",
    "    for i in range(n):\n",
    "        rand = np.random.randint(len(dataset.index))\n",
    "        plt.text(dataset.iloc[rand]['avg_income'],\n",
    "                 dataset.iloc[rand]['happyScore'],\n",
    "                 dataset.iloc[rand]['country'])"
   ]
  },
  {
   "cell_type": "code",
   "execution_count": 10,
   "metadata": {},
   "outputs": [
    {
     "data": {
      "image/png": "[encoded data removed]",
      "text/plain": [
       "<Figure size 432x288 with 1 Axes>"
      ]
     },
     "metadata": {
      "needs_background": "light"
     },
     "output_type": "display_data"
    }
   ],
   "source": [
    "plt.xlabel('Income')\n",
    "plt.ylabel('Happiness')\n",
    "plt.scatter(west_income, west_happiness, label=\"Western Europe\")\n",
    "plt.scatter(east_income, east_happiness,\n",
    "            label=\"Eastern and Central Europe\")\n",
    "\n",
    "#printing some random names\n",
    "print_names(west_europe, 4)\n",
    "print_names(east_europe, 4)\n",
    "\n",
    "plt.legend()\n",
    "plt.show()\n",
    "\n",
    "# ax = west_europe.plot(kind='scatter', x='avg_income', y='happyScore', label='Western Europe', color='DarkBlue');\n",
    "# east_europe.plot(ax=ax, kind='scatter', x='avg_income', y='happyScore', label='Eastern Europe', color='orange');\n",
    "# ax.set_xlabel(\"Average income\")\n",
    "# ax.set_ylabel(\"Hapiness\")"
   ]
  },
  {
   "cell_type": "markdown",
   "metadata": {
    "pycharm": {
     "name": "#%% md\n"
    }
   },
   "source": [
    "### 4.2: Eyeballing the Data"
   ]
  },
  {
   "cell_type": "code",
   "execution_count": null,
   "outputs": [],
   "source": [
    "# Adding inequality to the graph\n",
    "\n",
    "ineq = data['income_inequality']\n",
    "\n",
    "plt.xlabel('income')\n",
    "plt.ylabel('happiness')\n",
    "plt.scatter(income, happy, s=ineq*5, alpha=0.25)\n",
    "\n",
    "plt.show()"
   ],
   "metadata": {
    "collapsed": false,
    "pycharm": {
     "name": "#%%\n"
    }
   }
  },
  {
   "cell_type": "code",
   "execution_count": null,
   "outputs": [],
   "source": [
    "[plt.text(x=row['avg_income'], y=row['happyScore'],\n",
    "          s=row['country']) for k,row in data.iterrows()]"
   ],
   "metadata": {
    "collapsed": false,
    "pycharm": {
     "name": "#%%\n"
    }
   }
  },
  {
   "cell_type": "markdown",
   "source": [
    "### 4.3: Using K-Means to Interpret the Data"
   ],
   "metadata": {
    "collapsed": false
   }
  },
  {
   "cell_type": "code",
   "execution_count": null,
   "outputs": [],
   "source": [
    "from sklearn.cluster import KMeans\n",
    "import numpy as np\n",
    "\n",
    "income_happy = np.column_stack((income, happy))\n",
    "\n",
    "km_res = KMeans(n_clusters=3).fit(income_happy)\n",
    "\n",
    "# Calculating the centres of our clusters\n",
    "clusters = km_res.cluster_centers_\n",
    "\n",
    "plt.scatter(income, happy)\n",
    "plt.scatter(clusters[:,0], clusters[:,1], s=5000, alpha=0.25)\n",
    "\n",
    "plt.show()"
   ],
   "metadata": {
    "collapsed": false,
    "pycharm": {
     "name": "#%%\n"
    }
   }
  },
  {
   "cell_type": "code",
   "execution_count": null,
   "outputs": [],
   "source": [
    "# If we have only one cluster, it's located at the mean\n",
    "\n",
    "print(clusters)\n",
    "\n",
    "print(data['avg_income'].mean(), data['happyScore'].mean())"
   ],
   "metadata": {
    "collapsed": false,
    "pycharm": {
     "name": "#%%\n"
    }
   }
  },
  {
   "cell_type": "code",
   "execution_count": 41,
   "metadata": {},
   "outputs": [
    {
     "data": {
      "image/png": "[encoded data removed]",
      "text/plain": [
       "<Figure size 432x288 with 1 Axes>"
      ]
     },
     "metadata": {
      "needs_background": "light"
     },
     "output_type": "display_data"
    }
   ],
   "source": [
    "# If we have only one cluster, it's located at the mean\n",
    "\n",
    "print(clusters)\n",
    "\n",
    "print(data['avg_income'].mean(), data['happyScore'].mean())"
   ]
  },
  {
   "cell_type": "code",
   "execution_count": null,
   "metadata": {
    "scrolled": false
   },
   "outputs": [],
   "source": [
    "[plt.text(x=row['avg_income'], y=row['happyScore'],\n",
    "          s=row['country']) for k,row in data.iterrows()]"
   ]
  },
  {
   "cell_type": "markdown",
   "metadata": {},
   "source": [
    "### 4.3: Using K-Means to Interpret the Data"
   ]
  },
  {
   "cell_type": "code",
   "execution_count": 73,
   "metadata": {},
   "outputs": [
    {
     "data": {
      "image/png": "[encoded data removed]",
      "text/plain": [
       "<Figure size 432x288 with 1 Axes>"
      ]
     },
     "metadata": {
      "needs_background": "light"
     },
     "output_type": "display_data"
    }
   ],
   "source": [
    "from sklearn.cluster import KMeans\n",
    "import numpy as np\n",
    "\n",
    "income_happy = np.column_stack((income, happy))\n",
    "\n",
    "km_res = KMeans(n_clusters=3).fit(income_happy)\n",
    "\n",
    "# Calculating the centres of our clusters\n",
    "clusters = km_res.cluster_centers_\n",
    "\n",
    "plt.scatter(income, happy)\n",
    "plt.scatter(clusters[:,0], clusters[:,1], s=5000, alpha=0.25)\n",
    "\n",
    "plt.show()"
   ]
  },
  {
   "cell_type": "code",
   "execution_count": 74,
   "metadata": {},
   "outputs": [
    {
     "name": "stdout",
     "output_type": "stream",
     "text": [
      "[[7.57755711e+03 5.85080769e+00]\n",
      " [1.87593022e+04 7.03270000e+00]\n",
      " [2.19912121e+03 4.75472308e+00]]\n",
      "6442.75141621464 5.421909909909911\n"
     ]
    }
   ],
   "source": [
    "# If we have only one cluster, it's located at the mean\n",
    "\n",
    "print(clusters)\n",
    "\n",
    "print(data['avg_income'].mean(), data['happyScore'].mean())"
   ]
  }
 ],
 "metadata": {
  "kernelspec": {
   "display_name": "Python 3",
   "language": "python",
   "name": "python3"
  },
  "language_info": {
   "codemirror_mode": {
    "name": "ipython",
    "version": 3
   },
   "file_extension": ".py",
   "mimetype": "text/x-python",
   "name": "python",
   "nbconvert_exporter": "python",
   "pygments_lexer": "ipython3",
   "version": "3.8.2"
  }
 },
 "nbformat": 4,
 "nbformat_minor": 2
}